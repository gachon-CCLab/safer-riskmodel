{
 "cells": [
  {
   "cell_type": "code",
   "execution_count": 3,
   "metadata": {},
   "outputs": [
    {
     "name": "stdout",
     "output_type": "stream",
     "text": [
      "합친 DF shape: (7903, 88)\n",
      "✔ merged_all_m1.csv 저장 완료\n"
     ]
    }
   ],
   "source": [
    "import pandas as pd\n",
    "\n",
    "# 1) 파일 이름만 나열 (현재 작업 폴더에 있다고 가정)\n",
    "files = [\n",
    "    \"merged_data_m1_dong.csv\",\n",
    "    \"merged_data_m1_yong.csv\",\n",
    "    \"merged_data_m1_seoul.csv\",\n",
    "]\n",
    "\n",
    "# 2) 읽어서 concat\n",
    "dfs = [pd.read_csv(f) for f in files]\n",
    "\n",
    "# 3) 헤더 같은지 확인 (다르면 에러)\n",
    "cols_set = {tuple(df.columns) for df in dfs}\n",
    "assert len(cols_set) == 1, \"CSV 헤더가 서로 다릅니다!\"\n",
    "\n",
    "merged = pd.concat(dfs, ignore_index=True)\n",
    "print(\"합친 DF shape:\", merged.shape)\n",
    "\n",
    "# 4) 하나로 저장\n",
    "merged.to_csv(\"merged_all_m1.csv\", index=False)\n",
    "print(\"✔ merged_all_m1.csv 저장 완료\")\n"
   ]
  },
  {
   "cell_type": "code",
   "execution_count": null,
   "metadata": {},
   "outputs": [],
   "source": [
    "dfs = []\n",
    "for f in files:\n",
    "    df = pd.read_csv(f)\n",
    "    print(f\"{f.name} → shape {df.shape}\")\n",
    "    dfs.append(df)\n",
    "\n",
    "# 모든 CSV의 컬럼이 동일한지 검증\n",
    "cols_set = {tuple(df.columns) for df in dfs}\n",
    "assert len(cols_set) == 1, \"CSV 헤더가 서로 다릅니다!\"\n",
    "cols = dfs[0].columns.tolist()\n",
    "cols\n"
   ]
  },
  {
   "cell_type": "code",
   "execution_count": null,
   "metadata": {},
   "outputs": [],
   "source": [
    "merged = pd.concat(dfs, axis=0, ignore_index=True)\n",
    "print(\"Merged shape:\", merged.shape)\n",
    "\n",
    "# 필요 시 targetTime 기준 정렬 (선택)\n",
    "# merged = merged.sort_values([\"이름\", \"targetTime\"]).reset_index(drop=True)\n",
    "\n",
    "out_path = base / \"merged_all_m1.csv\"\n",
    "merged.to_csv(out_path, index=False)\n",
    "print(\"Saved →\", out_path)\n"
   ]
  }
 ],
 "metadata": {
  "kernelspec": {
   "display_name": "safer_env",
   "language": "python",
   "name": "python3"
  },
  "language_info": {
   "codemirror_mode": {
    "name": "ipython",
    "version": 3
   },
   "file_extension": ".py",
   "mimetype": "text/x-python",
   "name": "python",
   "nbconvert_exporter": "python",
   "pygments_lexer": "ipython3",
   "version": "3.9.21"
  }
 },
 "nbformat": 4,
 "nbformat_minor": 2
}
