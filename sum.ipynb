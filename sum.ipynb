{
 "cells": [
  {
   "cell_type": "code",
   "execution_count": 13,
   "metadata": {},
   "outputs": [
    {
     "name": "stdout",
     "output_type": "stream",
     "text": [
      "merged_data_m1_dong.csv      → (862, 88)\n",
      "merged_data_m1_yong.csv      → (3843, 88)\n",
      "merged_data_m1_seoul.csv     → (3198, 88)\n",
      "▶ 합친 DF shape : (7903, 88)\n",
      "✅ 저장 완료 → /home/ccl/Desktop/SAFER/M1/webtest/merged_all_m1_clean.csv\n"
     ]
    }
   ],
   "source": [
    "import pandas as pd\n",
    "from pathlib import Path\n",
    "\n",
    "# ─────────────────────────────────────────────\n",
    "# 0. CSV 목록\n",
    "# ─────────────────────────────────────────────\n",
    "files = [\n",
    "    \"merged_data_m1_dong.csv\",\n",
    "    \"merged_data_m1_yong.csv\",\n",
    "    \"merged_data_m1_seoul.csv\",\n",
    "]\n",
    "\n",
    "# ─────────────────────────────────────────────\n",
    "# 1. 중복 헤더 고유화 함수 (pandas 버전 무관)\n",
    "# ─────────────────────────────────────────────\n",
    "def dedup_columns(cols):\n",
    "    seen = {}\n",
    "    new_cols = []\n",
    "    for col in cols:\n",
    "        col = str(col).strip()          # 공백 제거 & 문자열화\n",
    "        if col == \"\" or col.lower() == \"none\":\n",
    "            col = \"EMPTY\"               # 빈 헤더 임시 이름\n",
    "        if col in seen:\n",
    "            new_cols.append(f\"{col}_{seen[col]}\")  # col, col_1, col_2…\n",
    "            seen[col] += 1\n",
    "        else:\n",
    "            new_cols.append(col)\n",
    "            seen[col] = 1\n",
    "    return new_cols\n",
    "\n",
    "# ─────────────────────────────────────────────\n",
    "# 2. CSV 읽고 정리\n",
    "# ─────────────────────────────────────────────\n",
    "dfs = []\n",
    "for f in files:\n",
    "    fp = Path(f)\n",
    "    if not fp.exists():\n",
    "        raise FileNotFoundError(fp)\n",
    "\n",
    "    try:  # pandas 1.4+\n",
    "        df = pd.read_csv(fp, encoding=\"utf-8-sig\",\n",
    "                         encoding_errors=\"replace\", low_memory=False)\n",
    "    except TypeError:  # pandas 1.3↓\n",
    "        with open(fp, \"r\", encoding=\"utf-8-sig\", errors=\"replace\") as fh:\n",
    "            df = pd.read_csv(fh, low_memory=False)\n",
    "\n",
    "    # 헤더 클린 + 중복 처리\n",
    "    df.columns = dedup_columns(df.columns)\n",
    "    dfs.append(df)\n",
    "    print(f\"{fp.name:28} → {df.shape}\")\n",
    "\n",
    "# ─────────────────────────────────────────────\n",
    "# 3. 헤더 동일성 검증\n",
    "# ─────────────────────────────────────────────\n",
    "if len({tuple(df.columns) for df in dfs}) != 1:\n",
    "    raise ValueError(\"❌  CSV 헤더가 서로 다릅니다!\")\n",
    "\n",
    "# ─────────────────────────────────────────────\n",
    "# 4. 병합 후 저장 (UTF-8 무 BOM)\n",
    "# ─────────────────────────────────────────────\n",
    "merged = pd.concat(dfs, ignore_index=True)\n",
    "print(\"▶ 합친 DF shape :\", merged.shape)\n",
    "\n",
    "out_path = Path(\"merged_all_m1_clean.csv\").resolve()\n",
    "merged.to_csv(out_path, index=False, encoding=\"utf-8\")\n",
    "print(\"✅ 저장 완료 →\", out_path)\n"
   ]
  }
 ],
 "metadata": {
  "kernelspec": {
   "display_name": "safer_env",
   "language": "python",
   "name": "python3"
  },
  "language_info": {
   "codemirror_mode": {
    "name": "ipython",
    "version": 3
   },
   "file_extension": ".py",
   "mimetype": "text/x-python",
   "name": "python",
   "nbconvert_exporter": "python",
   "pygments_lexer": "ipython3",
   "version": "3.9.21"
  }
 },
 "nbformat": 4,
 "nbformat_minor": 2
}
